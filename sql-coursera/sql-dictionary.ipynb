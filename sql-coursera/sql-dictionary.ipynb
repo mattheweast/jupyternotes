{
 "cells": [
  {
   "cell_type": "markdown",
   "metadata": {
    "vscode": {
     "languageId": "plaintext"
    }
   },
   "source": [
    "# Interim\n",
    "\n",
    "Interim is used to describe a temporary or transitional result set or table. "
   ]
  }
 ],
 "metadata": {
  "language_info": {
   "name": "python"
  }
 },
 "nbformat": 4,
 "nbformat_minor": 2
}
